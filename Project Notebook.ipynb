{
 "cells": [
  {
   "cell_type": "markdown",
   "id": "1008744d",
   "metadata": {},
   "source": [
    "# Quiz 3 Explanations"
   ]
  },
  {
   "cell_type": "markdown",
   "id": "c76fef88",
   "metadata": {},
   "source": [
    "## Question 1"
   ]
  },
  {
   "cell_type": "markdown",
   "id": "b5b37a03",
   "metadata": {},
   "source": [
    "Look at the following code snippet. Mark **all** correct statements regarding this function definition."
   ]
  },
  {
   "cell_type": "code",
   "execution_count": 11,
   "id": "a120a862",
   "metadata": {},
   "outputs": [
    {
     "data": {
      "text/plain": [
       "30"
      ]
     },
     "execution_count": 11,
     "metadata": {},
     "output_type": "execute_result"
    }
   ],
   "source": [
    "def sum_double_numbers(start, end, step=2):\n",
    "    r=0\n",
    "    for i in range(start, end, step):\n",
    "        r += i*2\n",
    "        #print(i, r) # to show steps\n",
    "    return r\n",
    "\n",
    "sum_double_numbers(2, 9, 3)"
   ]
  },
  {
   "cell_type": "markdown",
   "id": "ecce44b0",
   "metadata": {},
   "source": [
    "- [x] The function **sum_double_numbers** needs at least 2 and can take at most 3 arguments/parameters.\n",
    "- [ ] The function **sum_double_numbers** can be called by **sum_double_numbers()**, i.e., without explicitly giving any argument, and will be executed without raising an error.\n",
    "- [ ] If called syntactically correct, the function **sum_double_numbers** returns the sum from all integers between the given **start** (inclusive) and **end** (exclusive) parameter.\n",
    "- [x] If called syntactically correct, the function **sum_double_numbers** returns the sum of the doubled values of all integers between the given **start** (inclusive) and **end** (exclusive) parameter.\n",
    "- [x] The return value is **4** if the function is called with: **sum_double_numbers(0, 4)\n",
    "- [x] The return value is **0** if the function is called with: **sum_double_numbers(10, 1)\n",
    "- [x] The return value is **6** if the function is called with: **sum_double_numbers(1, 3, 1)\n",
    "- [ ] *The function definition is incorrect. None of the statements are true.*"
   ]
  },
  {
   "cell_type": "markdown",
   "id": "80236c5f",
   "metadata": {},
   "source": [
    "**Default values**: \n",
    "- function definition: if wanted, default values must be specified in the function definition.\n",
    "- function call: when calling the function, if no argument is provided, the default value is used. SO: if no default value was set in the function definition, an argument has to be provided in the function call.\n",
    "\n",
    "**How does the function work?**: cf code cell of the function definition\n"
   ]
  },
  {
   "cell_type": "code",
   "execution_count": 4,
   "id": "7bacd3bf",
   "metadata": {},
   "outputs": [
    {
     "data": {
      "text/plain": [
       "4"
      ]
     },
     "execution_count": 4,
     "metadata": {},
     "output_type": "execute_result"
    }
   ],
   "source": [
    "sum_double_numbers(0, 4)"
   ]
  },
  {
   "cell_type": "code",
   "execution_count": 5,
   "id": "ccf408b7",
   "metadata": {},
   "outputs": [
    {
     "data": {
      "text/plain": [
       "0"
      ]
     },
     "execution_count": 5,
     "metadata": {},
     "output_type": "execute_result"
    }
   ],
   "source": [
    "sum_double_numbers(10, 1)"
   ]
  },
  {
   "cell_type": "code",
   "execution_count": 6,
   "id": "0d8b28fa",
   "metadata": {},
   "outputs": [
    {
     "data": {
      "text/plain": [
       "6"
      ]
     },
     "execution_count": 6,
     "metadata": {},
     "output_type": "execute_result"
    }
   ],
   "source": [
    "sum_double_numbers(1, 3, 1)"
   ]
  },
  {
   "cell_type": "markdown",
   "id": "09ad9e18",
   "metadata": {},
   "source": [
    "## Question 2"
   ]
  },
  {
   "cell_type": "markdown",
   "id": "a9ebbf05",
   "metadata": {},
   "source": [
    "Given is the following signature of a function. \n"
   ]
  },
  {
   "cell_type": "code",
   "execution_count": null,
   "id": "cbcdcf12",
   "metadata": {},
   "outputs": [],
   "source": [
    "def blueprint(text=\"sum\", start=0, end=10):"
   ]
  },
  {
   "cell_type": "markdown",
   "id": "39314924",
   "metadata": {},
   "source": [
    "Which of the following options calls the function **successfully**? Mark all correct options!"
   ]
  },
  {
   "cell_type": "markdown",
   "id": "b42a0d1f",
   "metadata": {},
   "source": [
    "- [x] blueprint(\"sum\", 3, 9)\n",
    "- [x] blueprint(\"division\", 0, 5)\n",
    "- [x] blueprint(\"sum\")\n",
    "- [x] blueprint(end=10, text=\"sum\", start=0)\n",
    "- [ ] blueprint(end=10, text=\"sum\", start=0, True)\n",
    "- [ ] *None of the above*"
   ]
  },
  {
   "cell_type": "markdown",
   "id": "43433e22",
   "metadata": {},
   "source": [
    "**Arguments in the function calling**:\n",
    "- If parameters are specified with default values, they can be omitted in the function call, and Python will use the defaults provided in the function definition.\n",
    "- Keyword arguments can be used in the function call to specify a specific value. In Python, the order of jeyword arguments does not matter."
   ]
  },
  {
   "cell_type": "markdown",
   "id": "4f7f3608",
   "metadata": {},
   "source": [
    "## Question 3"
   ]
  },
  {
   "cell_type": "markdown",
   "id": "74b0bddf",
   "metadata": {},
   "source": [
    "Given is the following function. What does the function **get** do? You can assume the usage is correct!"
   ]
  },
  {
   "cell_type": "code",
   "execution_count": 2,
   "id": "72a94d92",
   "metadata": {},
   "outputs": [],
   "source": [
    "def get(elements):\n",
    "    to_return = []\n",
    "    for element in elements:\n",
    "        if isinstance(element, int):\n",
    "            to_return += [element]\n",
    "    return to_return[::-1]\n",
    "\n",
    "get([1, 'f', 'Bill', 3, 8, 'Tamara'])"
   ]
  },
  {
   "cell_type": "markdown",
   "id": "4aa4d644",
   "metadata": {},
   "source": [
    "- [ ] It returns the first *even integer* of the given list **elements**.\n",
    "- [ ] It returns the last *even integer* of the given list **elements**.\n",
    "- [ ] It returns the list of *integers* of the given list **elements** in their original order.\n",
    "- [x] It returns the list of *integers* of the given list **elements** in reverse order.\n",
    "- [ ] It *always* return the value **0**."
   ]
  },
  {
   "cell_type": "markdown",
   "id": "46e10e80",
   "metadata": {},
   "source": [
    "**isinstance(element, int)**\n",
    "- checks if *element* has the same data type as *int* (could be any other data type)\n",
    "\n",
    "**Addition of several lists**\n",
    "- Adding several lists will \"extend\" the initial list with the elements of the added list\n",
    "- Example: [element1, element2] += [element]\n",
    "- [element1, element2] = [element1, element2] + [element] = [element1, element2, element]\n",
    "\n",
    "**Slicing of a list** [start : end : step] \n",
    "- start (included)\n",
    "- end (excluded)\n",
    "- step (positive or negative): if positive number, starts from the beginning of the list and if negative number, starts from the end of the list backwards\n",
    "\n",
    "\n",
    "\n",
    "\n"
   ]
  },
  {
   "cell_type": "markdown",
   "id": "2bb460dd",
   "metadata": {},
   "source": [
    "## Question 4"
   ]
  },
  {
   "cell_type": "markdown",
   "id": "18259fd3",
   "metadata": {},
   "source": [
    "Given is the following code snippet. What is the *value* of the variable **d** after the execution?"
   ]
  },
  {
   "cell_type": "code",
   "execution_count": 14,
   "id": "552a239f",
   "metadata": {},
   "outputs": [],
   "source": [
    "a = [1, 2, (3, 4, '2'), 5]\n",
    "b = a[1] + a[2][0]\n",
    "c = (b, (a[2][1], b+2))\n",
    "d = c[1][1]"
   ]
  },
  {
   "cell_type": "markdown",
   "id": "b2a76693",
   "metadata": {},
   "source": [
    "- [ ] tuple\n",
    "- [ ] (3, 8)\n",
    "- [ ] (3, 7)\n",
    "- [ ] 8\n",
    "- [ ] *list*\n",
    "- [x] *Something else not listed*\n",
    "- [ ] [3, 7]"
   ]
  },
  {
   "cell_type": "markdown",
   "id": "9ffd1dc6",
   "metadata": {},
   "source": [
    "**Explanation**\n",
    "\n",
    "NB: index begins from **0**!\n",
    "\n",
    "a = [1, 2, (3, 4, '2'), 5]\n",
    "\n",
    "b = a[1] + a[2][0] = 2 + 3 = 5\n",
    "\n",
    "c = (b, (a[2][1], b+2)) = (5, (4, 5+2)) = (5, (4, 7))\n",
    "\n",
    "d = c[1][1] = **7**"
   ]
  },
  {
   "cell_type": "code",
   "execution_count": 20,
   "id": "9538b709",
   "metadata": {},
   "outputs": [
    {
     "name": "stdout",
     "output_type": "stream",
     "text": [
      "a = [1, 2, (3, 4, '2'), 5]\n",
      "b = 5\n",
      "c = (5, (4, 7))\n",
      "d = 7\n"
     ]
    }
   ],
   "source": [
    "print(f'a = {a}')\n",
    "print(f'b = {b}')\n",
    "print(f'c = {c}')\n",
    "print(f'd = {d}')"
   ]
  },
  {
   "cell_type": "markdown",
   "id": "6d7612c6",
   "metadata": {},
   "source": [
    "## Question 5"
   ]
  },
  {
   "cell_type": "markdown",
   "id": "8417c16e",
   "metadata": {},
   "source": [
    "True/False: We all know that *tuple* and *string* variables are *immutable*. Please assume a tuple t1 that contains a *list* object. This *list* contains (among others) a *string* object. Can this specific *list element* be replaced with another string object? \n",
    "\n",
    "Answer: True"
   ]
  },
  {
   "cell_type": "code",
   "execution_count": 19,
   "id": "7ee30afa",
   "metadata": {},
   "outputs": [
    {
     "data": {
      "text/plain": [
       "('a', [1, 'Cockayne'])"
      ]
     },
     "execution_count": 19,
     "metadata": {},
     "output_type": "execute_result"
    }
   ],
   "source": [
    "t1 = ('a', [1, 'Bill'])\n",
    "#t1[1] = 5 #tuple elements cannot be modified, i.e. are immutable\n",
    "t1[1][1] = 'Cockayne'\n",
    "t1"
   ]
  },
  {
   "cell_type": "markdown",
   "id": "090f41b8",
   "metadata": {},
   "source": [
    "**Explanation**: Lists are mutable, i.e. their elements can be modified. Once you're in a list, you can modify any element, even if the list is itself in a tuple!"
   ]
  },
  {
   "cell_type": "code",
   "execution_count": null,
   "id": "557a5439",
   "metadata": {},
   "outputs": [],
   "source": []
  }
 ],
 "metadata": {
  "kernelspec": {
   "display_name": "Python 3 (ipykernel)",
   "language": "python",
   "name": "python3"
  },
  "language_info": {
   "codemirror_mode": {
    "name": "ipython",
    "version": 3
   },
   "file_extension": ".py",
   "mimetype": "text/x-python",
   "name": "python",
   "nbconvert_exporter": "python",
   "pygments_lexer": "ipython3",
   "version": "3.11.4"
  }
 },
 "nbformat": 4,
 "nbformat_minor": 5
}
