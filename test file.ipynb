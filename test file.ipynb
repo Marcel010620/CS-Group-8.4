{
 "cells": [
  {
   "cell_type": "markdown",
   "id": "maritime-agent",
   "metadata": {
    "slideshow": {
     "slide_type": "slide"
    }
   },
   "source": [
    "# Lecture 2\n",
    "\n",
    "# Section 2: A short recap of the Python basics (variable, assignment, types, arithmetic, input, output)\n",
    "\n",
    "Hint: All the examples and explanations from this second part of today's lecture can be found in chapter 2 of the book."
   ]
  },
  {
   "cell_type": "markdown",
   "id": "saved-resource",
   "metadata": {
    "slideshow": {
     "slide_type": "slide"
    }
   },
   "source": [
    "##  2.1 Variables and Assignment Statements"
   ]
  },
  {
   "cell_type": "code",
   "execution_count": 1,
   "id": "unlikely-nicholas",
   "metadata": {
    "slideshow": {
     "slide_type": "-"
    }
   },
   "outputs": [
    {
     "data": {
      "text/plain": [
       "117"
      ]
     },
     "execution_count": 1,
     "metadata": {},
     "output_type": "execute_result"
    }
   ],
   "source": [
    "45 + 72"
   ]
  },
  {
   "cell_type": "code",
   "execution_count": 2,
   "id": "eight-envelope",
   "metadata": {
    "slideshow": {
     "slide_type": "-"
    }
   },
   "outputs": [],
   "source": [
    "x = 7"
   ]
  },
  {
   "cell_type": "markdown",
   "id": "worthy-burton",
   "metadata": {
    "slideshow": {
     "slide_type": "fragment"
    }
   },
   "source": [
    "* Preceding snippet is a **statement**. \n",
    "* Specifies a task to perform. \n",
    "* Preceding statement creates `x` and uses the **assignment symbol (`=`)** to give `x` a value. "
   ]
  },
  {
   "cell_type": "code",
   "execution_count": null,
   "id": "unlimited-automation",
   "metadata": {
    "slideshow": {
     "slide_type": "fragment"
    }
   },
   "outputs": [],
   "source": [
    "y = 3"
   ]
  },
  {
   "cell_type": "markdown",
   "id": "geographic-tonight",
   "metadata": {
    "slideshow": {
     "slide_type": "slide"
    }
   },
   "source": [
    "### Adding Variable Values and Viewing the Result"
   ]
  },
  {
   "cell_type": "code",
   "execution_count": 3,
   "id": "primary-spanish",
   "metadata": {
    "slideshow": {
     "slide_type": "-"
    }
   },
   "outputs": [
    {
     "data": {
      "text/plain": [
       "36"
      ]
     },
     "execution_count": 3,
     "metadata": {},
     "output_type": "execute_result"
    }
   ],
   "source": [
    "X = 20 #variable names are case sensitive\n",
    "x = 15\n",
    "y = 1\n",
    "x + y + X"
   ]
  },
  {
   "cell_type": "markdown",
   "id": "blond-placement",
   "metadata": {
    "slideshow": {
     "slide_type": "slide"
    }
   },
   "source": [
    "### Calculations in Assignment Statements"
   ]
  },
  {
   "cell_type": "code",
   "execution_count": 4,
   "id": "incident-caution",
   "metadata": {},
   "outputs": [],
   "source": [
    "total = x + y"
   ]
  },
  {
   "cell_type": "markdown",
   "id": "unique-calendar",
   "metadata": {},
   "source": [
    "* **assignment symbol (`=`)** is not an operator"
   ]
  },
  {
   "cell_type": "code",
   "execution_count": 5,
   "id": "appreciated-topic",
   "metadata": {},
   "outputs": [
    {
     "data": {
      "text/plain": [
       "16"
      ]
     },
     "execution_count": 5,
     "metadata": {},
     "output_type": "execute_result"
    }
   ],
   "source": [
    "total"
   ]
  },
  {
   "cell_type": "markdown",
   "id": "nutritional-arrow",
   "metadata": {
    "slideshow": {
     "slide_type": "slide"
    }
   },
   "source": [
    "### Python Style\n",
    "* The _Style Guide for Python Code_ helps you write code that conforms to Python’s coding conventions. \n",
    "* Recommends inserting one space on each side of the assignment symbol `=` and binary operators like `+` to make programs more readable. "
   ]
  },
  {
   "cell_type": "markdown",
   "id": "hollow-monster",
   "metadata": {
    "slideshow": {
     "slide_type": "slide"
    }
   },
   "source": [
    "### Variable Names\n",
    "* A variable name is an **identifier**. \n",
    "* May consist of letters, digits and underscores (`_`) but may not begin with a digit. \n",
    "* Python is _case sensitive_. "
   ]
  },
  {
   "cell_type": "markdown",
   "id": "insured-taiwan",
   "metadata": {
    "slideshow": {
     "slide_type": "slide"
    }
   },
   "source": [
    "### Types\n",
    "* Each value in Python has a type that indicates the kind of data the value represents. \n",
    "* You can view a value’s type, with the **`type` built-in function**."
   ]
  },
  {
   "cell_type": "code",
   "execution_count": 6,
   "id": "resident-cross",
   "metadata": {},
   "outputs": [
    {
     "data": {
      "text/plain": [
       "int"
      ]
     },
     "execution_count": 6,
     "metadata": {},
     "output_type": "execute_result"
    }
   ],
   "source": [
    "type(x)"
   ]
  },
  {
   "cell_type": "code",
   "execution_count": 7,
   "id": "accessory-requirement",
   "metadata": {},
   "outputs": [
    {
     "data": {
      "text/plain": [
       "float"
      ]
     },
     "execution_count": 7,
     "metadata": {},
     "output_type": "execute_result"
    }
   ],
   "source": [
    "type(10.5)"
   ]
  },
  {
   "cell_type": "markdown",
   "id": "familiar-quarterly",
   "metadata": {
    "slideshow": {
     "slide_type": "fragment"
    }
   },
   "source": [
    "* A function performs a task when you call it by writing its name, followed by **parentheses, `()`**. \n",
    "* The parentheses contain the function’s **argument**—the data that the type function needs to perform its task."
   ]
  },
  {
   "cell_type": "markdown",
   "id": "piano-focus",
   "metadata": {
    "slideshow": {
     "slide_type": "slide"
    }
   },
   "source": [
    "## 2.2 Arithmetic\n",
    "| Python operation | Arithmetic operator | Python expression\n",
    "| :-------- | :-------- | :-------- \n",
    "| Addition | `+`  | `f + 7` \n",
    "| Subtraction | `–` | `p - c` \n",
    "| Multiplication | `*` | `b * m` \n",
    "| Exponentiation | `**` |  `x ** y` \n",
    "| True division | `/` | `x / y` \n",
    "| Floor division | `//` | `x // y` \n",
    "| Remainder (modulo) | `%` | `r % s` \n",
    "\n",
    "* [All operators and their precedence](https://docs.python.org/3/reference/expressions.html#operator-precedence)"
   ]
  },
  {
   "cell_type": "markdown",
   "id": "constant-metro",
   "metadata": {
    "slideshow": {
     "slide_type": "slide"
    }
   },
   "source": [
    "### Multiplication (`*`)\n",
    "* Python uses the **asterisk (`*`) multiplication operator**:"
   ]
  },
  {
   "cell_type": "code",
   "execution_count": 8,
   "id": "republican-monaco",
   "metadata": {},
   "outputs": [
    {
     "data": {
      "text/plain": [
       "28"
      ]
     },
     "execution_count": 8,
     "metadata": {},
     "output_type": "execute_result"
    }
   ],
   "source": [
    "7 * 4"
   ]
  },
  {
   "cell_type": "markdown",
   "id": "convertible-vienna",
   "metadata": {
    "slideshow": {
     "slide_type": "slide"
    }
   },
   "source": [
    "### Exponentiation (`**`)\n",
    "* The **exponentiation (&ast;&ast;) operator** raises one value to the power of another."
   ]
  },
  {
   "cell_type": "code",
   "execution_count": 9,
   "id": "limited-toolbox",
   "metadata": {},
   "outputs": [
    {
     "data": {
      "text/plain": [
       "1024"
      ]
     },
     "execution_count": 9,
     "metadata": {},
     "output_type": "execute_result"
    }
   ],
   "source": [
    "2 ** 10"
   ]
  },
  {
   "cell_type": "markdown",
   "id": "fifth-newport",
   "metadata": {
    "slideshow": {
     "slide_type": "fragment"
    }
   },
   "source": [
    "* To calculate the square root, use the exponent `1/2` or `0.5`."
   ]
  },
  {
   "cell_type": "code",
   "execution_count": 10,
   "id": "beginning-resistance",
   "metadata": {},
   "outputs": [
    {
     "data": {
      "text/plain": [
       "3.0"
      ]
     },
     "execution_count": 10,
     "metadata": {},
     "output_type": "execute_result"
    }
   ],
   "source": [
    "9 ** (1 / 2)"
   ]
  },
  {
   "cell_type": "markdown",
   "id": "interested-kansas",
   "metadata": {
    "slideshow": {
     "slide_type": "slide"
    }
   },
   "source": [
    "But of course, Python has a library and a function to calculate the square root, too."
   ]
  },
  {
   "cell_type": "code",
   "execution_count": 11,
   "id": "overhead-harassment",
   "metadata": {
    "slideshow": {
     "slide_type": "-"
    }
   },
   "outputs": [
    {
     "data": {
      "text/plain": [
       "3.0"
      ]
     },
     "execution_count": 11,
     "metadata": {},
     "output_type": "execute_result"
    }
   ],
   "source": [
    "# Import math module\n",
    "import math\n",
    "\n",
    "# Return the square root of the argument\n",
    "math.sqrt(9)"
   ]
  },
  {
   "cell_type": "markdown",
   "id": "olive-sleeve",
   "metadata": {
    "slideshow": {
     "slide_type": "slide"
    }
   },
   "source": [
    "### True Division (`/`) vs. Floor Division (ganzzahlige Division `//`)\n",
    "* **True division (`/`)** divides a numerator by a denominator and yields a floating-point number."
   ]
  },
  {
   "cell_type": "code",
   "execution_count": null,
   "id": "spoken-vertical",
   "metadata": {},
   "outputs": [],
   "source": [
    "7 / 4"
   ]
  },
  {
   "cell_type": "markdown",
   "id": "peripheral-notice",
   "metadata": {
    "slideshow": {
     "slide_type": "fragment"
    }
   },
   "source": [
    "* **Floor division (`//`)** divides a numerator by a denominator, yielding the highest _integer_ that’s not greater than the result.\n",
    "* **Truncates** (discards) the fractional part. "
   ]
  },
  {
   "cell_type": "code",
   "execution_count": 12,
   "id": "starting-grammar",
   "metadata": {
    "slideshow": {
     "slide_type": "-"
    }
   },
   "outputs": [
    {
     "data": {
      "text/plain": [
       "1"
      ]
     },
     "execution_count": 12,
     "metadata": {},
     "output_type": "execute_result"
    }
   ],
   "source": [
    "7 // 4"
   ]
  },
  {
   "cell_type": "code",
   "execution_count": 13,
   "id": "absolute-greensboro",
   "metadata": {},
   "outputs": [
    {
     "data": {
      "text/plain": [
       "0"
      ]
     },
     "execution_count": 13,
     "metadata": {},
     "output_type": "execute_result"
    }
   ],
   "source": [
    "3 // 5"
   ]
  },
  {
   "cell_type": "code",
   "execution_count": 14,
   "id": "loved-occasions",
   "metadata": {},
   "outputs": [
    {
     "data": {
      "text/plain": [
       "2"
      ]
     },
     "execution_count": 14,
     "metadata": {},
     "output_type": "execute_result"
    }
   ],
   "source": [
    "14 // 7"
   ]
  },
  {
   "cell_type": "markdown",
   "id": "charming-allah",
   "metadata": {
    "slideshow": {
     "slide_type": "slide"
    }
   },
   "source": [
    "* And again, the difference between **true division** and **floor division**"
   ]
  },
  {
   "cell_type": "code",
   "execution_count": 15,
   "id": "approximate-roads",
   "metadata": {
    "slideshow": {
     "slide_type": "-"
    }
   },
   "outputs": [
    {
     "data": {
      "text/plain": [
       "-3.25"
      ]
     },
     "execution_count": 15,
     "metadata": {},
     "output_type": "execute_result"
    }
   ],
   "source": [
    "-13 / 4"
   ]
  },
  {
   "cell_type": "code",
   "execution_count": 16,
   "id": "liberal-wichita",
   "metadata": {},
   "outputs": [
    {
     "data": {
      "text/plain": [
       "-4"
      ]
     },
     "execution_count": 16,
     "metadata": {},
     "output_type": "execute_result"
    }
   ],
   "source": [
    "-13 // 4"
   ]
  },
  {
   "cell_type": "markdown",
   "id": "promotional-product",
   "metadata": {
    "slideshow": {
     "slide_type": "fragment"
    }
   },
   "source": [
    "Floor division gives the closest integer that **is not greater** than `-3.25` — which is `-4`"
   ]
  },
  {
   "cell_type": "code",
   "execution_count": 17,
   "id": "necessary-berkeley",
   "metadata": {
    "slideshow": {
     "slide_type": "fragment"
    }
   },
   "outputs": [
    {
     "ename": "ZeroDivisionError",
     "evalue": "division by zero",
     "output_type": "error",
     "traceback": [
      "\u001b[1;31m---------------------------------------------------------------------------\u001b[0m",
      "\u001b[1;31mZeroDivisionError\u001b[0m                         Traceback (most recent call last)",
      "Cell \u001b[1;32mIn[17], line 1\u001b[0m\n\u001b[1;32m----> 1\u001b[0m \u001b[38;5;241m123\u001b[39m \u001b[38;5;241m/\u001b[39m \u001b[38;5;241m0\u001b[39m\n",
      "\u001b[1;31mZeroDivisionError\u001b[0m: division by zero"
     ]
    }
   ],
   "source": [
    "123 / 0"
   ]
  },
  {
   "cell_type": "markdown",
   "id": "fatty-pilot",
   "metadata": {
    "slideshow": {
     "slide_type": "slide"
    }
   },
   "source": [
    "### Exceptions and Tracebacks (1 of 2)\n",
    "* Dividing by zero with `/` or `//` is not allowed and results in an **exception**."
   ]
  },
  {
   "cell_type": "code",
   "execution_count": null,
   "id": "velvet-defensive",
   "metadata": {},
   "outputs": [],
   "source": [
    "123 / 0"
   ]
  },
  {
   "cell_type": "markdown",
   "id": "nominated-theorem",
   "metadata": {
    "slideshow": {
     "slide_type": "fragment"
    }
   },
   "source": [
    "* Exceptions produce **tracebacks**. \n",
    "* The line that begins with `---->` shows the code that caused the exception. \n",
    "* The error message at the bottom of the traceback shows the exception that occurred, followed by a colon (:) and an error message with more information about the exception."
   ]
  },
  {
   "cell_type": "markdown",
   "id": "killing-catholic",
   "metadata": {
    "slideshow": {
     "slide_type": "slide"
    }
   },
   "source": [
    "### Exceptions and Tracebacks (2 of 2)\n",
    "* An exception occurs if you try to use a variable that you have not yet created. "
   ]
  },
  {
   "cell_type": "code",
   "execution_count": 18,
   "id": "searching-newman",
   "metadata": {},
   "outputs": [
    {
     "ename": "NameError",
     "evalue": "name 'z' is not defined",
     "output_type": "error",
     "traceback": [
      "\u001b[1;31m---------------------------------------------------------------------------\u001b[0m",
      "\u001b[1;31mNameError\u001b[0m                                 Traceback (most recent call last)",
      "Cell \u001b[1;32mIn[18], line 1\u001b[0m\n\u001b[1;32m----> 1\u001b[0m z \u001b[38;5;241m+\u001b[39m \u001b[38;5;241m7\u001b[39m\n",
      "\u001b[1;31mNameError\u001b[0m: name 'z' is not defined"
     ]
    }
   ],
   "source": [
    "z + 7"
   ]
  },
  {
   "cell_type": "markdown",
   "id": "comprehensive-moisture",
   "metadata": {
    "slideshow": {
     "slide_type": "slide"
    }
   },
   "source": [
    "### Remainder Operator (Modulo, Rest)\n",
    "* **Remainder operator (`%`)** yields the remainder after the left operand is divided by the right operand."
   ]
  },
  {
   "cell_type": "code",
   "execution_count": 19,
   "id": "mounted-gathering",
   "metadata": {},
   "outputs": [
    {
     "data": {
      "text/plain": [
       "2"
      ]
     },
     "execution_count": 19,
     "metadata": {},
     "output_type": "execute_result"
    }
   ],
   "source": [
    "17 % 5"
   ]
  },
  {
   "cell_type": "code",
   "execution_count": 20,
   "id": "psychological-mailing",
   "metadata": {},
   "outputs": [
    {
     "data": {
      "text/plain": [
       "0.5"
      ]
     },
     "execution_count": 20,
     "metadata": {},
     "output_type": "execute_result"
    }
   ],
   "source": [
    "7.5 % 3.5"
   ]
  },
  {
   "cell_type": "markdown",
   "id": "auburn-summit",
   "metadata": {
    "slideshow": {
     "slide_type": "slide"
    }
   },
   "source": [
    "### Grouping Expressions with Parentheses\n",
    "* Parentheses group Python expressions, as in algebraic expressions. "
   ]
  },
  {
   "cell_type": "code",
   "execution_count": 21,
   "id": "impressed-illness",
   "metadata": {},
   "outputs": [
    {
     "data": {
      "text/plain": [
       "80"
      ]
     },
     "execution_count": 21,
     "metadata": {},
     "output_type": "execute_result"
    }
   ],
   "source": [
    "10 * (5 + 3)"
   ]
  },
  {
   "cell_type": "code",
   "execution_count": 22,
   "id": "third-section",
   "metadata": {},
   "outputs": [
    {
     "data": {
      "text/plain": [
       "53"
      ]
     },
     "execution_count": 22,
     "metadata": {},
     "output_type": "execute_result"
    }
   ],
   "source": [
    "10 * 5 + 3"
   ]
  },
  {
   "cell_type": "markdown",
   "id": "temporal-hindu",
   "metadata": {
    "slideshow": {
     "slide_type": "slide"
    }
   },
   "source": [
    "### Operator Precedence Rules\n",
    "Generally the same as those in algebra:\n",
    "\n",
    "> 1. Expressions in **parentheses** evaluate first, so parentheses may force the order of evaluation to occur in any sequence you desire. Parentheses have the highest level of precedence. In expressions with _nested parentheses_, such as `(a / (b - c))`, the expression in the innermost parentheses (that is, `b - c`) evaluates first. "
   ]
  },
  {
   "cell_type": "markdown",
   "id": "826004d9",
   "metadata": {
    "slideshow": {
     "slide_type": "fragment"
    }
   },
   "source": [
    "> 2. **Exponentiation operations** evaluate next. If an expression contains several exponentiation operations, Python applies them from right to left."
   ]
  },
  {
   "cell_type": "markdown",
   "id": "marine-conversion",
   "metadata": {
    "slideshow": {
     "slide_type": "fragment"
    }
   },
   "source": [
    "> 3. **Multiplication**, **division** and **modulus operations** evaluate next. If an expression contains several multiplication, true-division, floor-division and modulus operations, Python applies them from left to right. Multiplication, division and modulus are “on the same level of precedence.”"
   ]
  },
  {
   "cell_type": "markdown",
   "id": "472ce2fd",
   "metadata": {
    "slideshow": {
     "slide_type": "fragment"
    }
   },
   "source": [
    "> 4. **Addition** and **subtraction operations** evaluate last. If an expression contains several addition and subtraction operations, Python applies them from left to right. Addition and subtraction also have the same level of precedence.\n",
    "\n",
    "* [Complete list of operators and their precedence](https://docs.python.org/3/reference/expressions.html#operator-precedence)"
   ]
  },
  {
   "cell_type": "markdown",
   "id": "legal-impossible",
   "metadata": {
    "slideshow": {
     "slide_type": "slide"
    }
   },
   "source": [
    "### Redundant Parentheses\n",
    "* You can always use redundant parentheses to group subexpressions to make an expression clearer and easier to read. "
   ]
  },
  {
   "cell_type": "markdown",
   "id": "virgin-plain",
   "metadata": {
    "slideshow": {
     "slide_type": "slide"
    }
   },
   "source": [
    "### Operand Types\n",
    "* If both operands are integers, the result is an integer—**except for the true-division (`/`) operator, which always yields a floating-point number**. \n",
    "* If both operands are floating-point numbers, the result is a floating-point number. \n",
    "* Mixed-type expressions produce floating-point results."
   ]
  },
  {
   "cell_type": "code",
   "execution_count": 23,
   "id": "pressed-assembly",
   "metadata": {
    "slideshow": {
     "slide_type": "fragment"
    }
   },
   "outputs": [
    {
     "data": {
      "text/plain": [
       "int"
      ]
     },
     "execution_count": 23,
     "metadata": {},
     "output_type": "execute_result"
    }
   ],
   "source": [
    "type(3 + 4)"
   ]
  },
  {
   "cell_type": "code",
   "execution_count": 24,
   "id": "diverse-ecuador",
   "metadata": {},
   "outputs": [
    {
     "data": {
      "text/plain": [
       "float"
      ]
     },
     "execution_count": 24,
     "metadata": {},
     "output_type": "execute_result"
    }
   ],
   "source": [
    "type(3.0 + 4)"
   ]
  },
  {
   "cell_type": "code",
   "execution_count": 25,
   "id": "limiting-freight",
   "metadata": {},
   "outputs": [
    {
     "data": {
      "text/plain": [
       "float"
      ]
     },
     "execution_count": 25,
     "metadata": {},
     "output_type": "execute_result"
    }
   ],
   "source": [
    "type(12 / 4)"
   ]
  },
  {
   "cell_type": "code",
   "execution_count": 26,
   "id": "funny-level",
   "metadata": {},
   "outputs": [
    {
     "data": {
      "text/plain": [
       "int"
      ]
     },
     "execution_count": 26,
     "metadata": {},
     "output_type": "execute_result"
    }
   ],
   "source": [
    "type(12 // 5)"
   ]
  },
  {
   "cell_type": "markdown",
   "id": "indoor-player",
   "metadata": {
    "slideshow": {
     "slide_type": "slide"
    }
   },
   "source": [
    "# Time to do a short quiz ... on _menti.com_"
   ]
  },
  {
   "cell_type": "markdown",
   "id": "generic-moisture",
   "metadata": {
    "slideshow": {
     "slide_type": "slide"
    }
   },
   "source": [
    "## 2.3 Function `print` and an Intro to Single-and-Double-Quoted Strings\n",
    "* The built-in **`print` function** displays its argument(s) as a line of text "
   ]
  },
  {
   "cell_type": "code",
   "execution_count": 27,
   "id": "equivalent-applicant",
   "metadata": {},
   "outputs": [
    {
     "name": "stdout",
     "output_type": "stream",
     "text": [
      "Welcome to Python!\n"
     ]
    }
   ],
   "source": [
    "print('Welcome to Python!')"
   ]
  },
  {
   "cell_type": "markdown",
   "id": "convinced-stone",
   "metadata": {
    "slideshow": {
     "slide_type": "slide"
    }
   },
   "source": [
    "* May enclose a string in double quotes (`\"`)."
   ]
  },
  {
   "cell_type": "code",
   "execution_count": 28,
   "id": "judicial-static",
   "metadata": {},
   "outputs": [
    {
     "name": "stdout",
     "output_type": "stream",
     "text": [
      "Welcome to Python!\n"
     ]
    }
   ],
   "source": [
    "print(\"Welcome to Python!\")"
   ]
  },
  {
   "cell_type": "markdown",
   "id": "painted-wrist",
   "metadata": {},
   "source": [
    "* Python programmers generally prefer single quotes. \n",
    "* When `print` completes its task, it positions the screen cursor at the beginning of the next line. "
   ]
  },
  {
   "cell_type": "markdown",
   "id": "loose-awareness",
   "metadata": {
    "slideshow": {
     "slide_type": "slide"
    }
   },
   "source": [
    "### Printing a Comma-Separated List of Items"
   ]
  },
  {
   "cell_type": "code",
   "execution_count": 29,
   "id": "general-belief",
   "metadata": {},
   "outputs": [
    {
     "name": "stdout",
     "output_type": "stream",
     "text": [
      "Welcome to Python!\n"
     ]
    }
   ],
   "source": [
    "print('Welcome', 'to', 'Python!')"
   ]
  },
  {
   "cell_type": "markdown",
   "id": "respective-apartment",
   "metadata": {},
   "source": [
    "* Displays each argument separated from the next by a space."
   ]
  },
  {
   "cell_type": "markdown",
   "id": "desperate-aside",
   "metadata": {
    "slideshow": {
     "slide_type": "slide"
    }
   },
   "source": [
    "### Printing Many Lines of Text with One Statement\n",
    "* A backslash (`\\`) in a string is the **escape character**. \n",
    "* The backslash and the character immediately following it form an **escape sequence**. \n",
    "* `\\n` represents the **newline character** escape sequence, which tells `print` to move the output cursor to the next line. "
   ]
  },
  {
   "cell_type": "code",
   "execution_count": 30,
   "id": "embedded-large",
   "metadata": {},
   "outputs": [
    {
     "name": "stdout",
     "output_type": "stream",
     "text": [
      "Welcome\n",
      "to\n",
      "\n",
      "Python!\n"
     ]
    }
   ],
   "source": [
    "print('Welcome\\nto\\n\\nPython!')"
   ]
  },
  {
   "cell_type": "markdown",
   "id": "popular-cabinet",
   "metadata": {
    "slideshow": {
     "slide_type": "slide"
    }
   },
   "source": [
    "### Other Escape Sequences\n",
    "| Escape sequence | Description\n",
    "| :------- | :------------\n",
    "| `\\n` | Insert a newline character in a string. When the string is displayed, for each newline, move the screen cursor to the beginning of the next line. \n",
    "| `\\t` | Insert a horizontal tab. When the string is displayed, for each tab, move the screen cursor to the next tab stop. \n",
    "| `\\\\` | Insert a backslash character in a string.\n",
    "| `\\\"` | Insert a double quote character in a string.\n",
    "| `\\'` | Insert a single quote character in a string."
   ]
  },
  {
   "cell_type": "markdown",
   "id": "powered-history",
   "metadata": {
    "slideshow": {
     "slide_type": "slide"
    }
   },
   "source": [
    "### Ignoring a Line Break in a Long String\n",
    "* Can split a long string (or a long statement) over several lines by using the **\\ continuation character** as the last character on a line to ignore the line break."
   ]
  },
  {
   "cell_type": "code",
   "execution_count": 31,
   "id": "owned-denmark",
   "metadata": {},
   "outputs": [
    {
     "name": "stdout",
     "output_type": "stream",
     "text": [
      "this is a longer string, so we split it over two lines\n"
     ]
    }
   ],
   "source": [
    "print('this is a longer string, so we \\\n",
    "split it over two lines')"
   ]
  },
  {
   "cell_type": "markdown",
   "id": "national-bernard",
   "metadata": {},
   "source": [
    "* In this case, `\\` is not the escape character because another character does not follow it."
   ]
  },
  {
   "cell_type": "markdown",
   "id": "designed-validation",
   "metadata": {
    "slideshow": {
     "slide_type": "slide"
    }
   },
   "source": [
    "### Printing the Value of an Expression"
   ]
  },
  {
   "cell_type": "code",
   "execution_count": 32,
   "id": "indian-surface",
   "metadata": {},
   "outputs": [
    {
     "name": "stdout",
     "output_type": "stream",
     "text": [
      "Sum is 10\n"
     ]
    }
   ],
   "source": [
    "print('Sum is', 7 + 3)"
   ]
  },
  {
   "cell_type": "markdown",
   "id": "indie-merchandise",
   "metadata": {
    "slideshow": {
     "slide_type": "slide"
    }
   },
   "source": [
    "## 2.4 Triple-Quoted Strings\n",
    "* Delimited by **`\"\"\"`** or **`'''`**, but the _Style Guide for Python Code_ recommends **`\"\"\"`**. \n",
    "* Used for:\n",
    "    * multiline strings\n",
    "    * strings containing single or double quotes\n",
    "    * **docstrings**&mdash;the recommended way to document the purposes of certain program components. "
   ]
  },
  {
   "cell_type": "markdown",
   "id": "searching-europe",
   "metadata": {
    "slideshow": {
     "slide_type": "slide"
    }
   },
   "source": [
    "### Including Quotes in Strings (1 of 3)\n",
    "* A string delimited by single quotes may include double-quote characters, but not single quotes, unless you use the `\\'` escape sequence."
   ]
  },
  {
   "cell_type": "code",
   "execution_count": 33,
   "id": "graduate-accuracy",
   "metadata": {},
   "outputs": [
    {
     "name": "stdout",
     "output_type": "stream",
     "text": [
      "Display \"hi\" in quotes\n"
     ]
    }
   ],
   "source": [
    "print('Display \"hi\" in quotes')"
   ]
  },
  {
   "cell_type": "code",
   "execution_count": 34,
   "id": "weighted-microphone",
   "metadata": {},
   "outputs": [
    {
     "ename": "SyntaxError",
     "evalue": "invalid syntax. Perhaps you forgot a comma? (102489360.py, line 1)",
     "output_type": "error",
     "traceback": [
      "\u001b[1;36m  Cell \u001b[1;32mIn[34], line 1\u001b[1;36m\u001b[0m\n\u001b[1;33m    print('Display 'hi' in quotes')\u001b[0m\n\u001b[1;37m          ^\u001b[0m\n\u001b[1;31mSyntaxError\u001b[0m\u001b[1;31m:\u001b[0m invalid syntax. Perhaps you forgot a comma?\n"
     ]
    }
   ],
   "source": [
    "print('Display 'hi' in quotes')"
   ]
  },
  {
   "cell_type": "code",
   "execution_count": 35,
   "id": "unusual-admission",
   "metadata": {},
   "outputs": [
    {
     "name": "stdout",
     "output_type": "stream",
     "text": [
      "Display 'hi' in quotes\n"
     ]
    }
   ],
   "source": [
    "print('Display \\'hi\\' in quotes')"
   ]
  },
  {
   "cell_type": "markdown",
   "id": "liable-pressing",
   "metadata": {
    "slideshow": {
     "slide_type": "slide"
    }
   },
   "source": [
    "### Including Quotes in Strings (2 of 3)\n",
    "* A string delimited by double quotes may include single quote characters, but not double quotes, unless you use the `\\\"` escape sequence."
   ]
  },
  {
   "cell_type": "code",
   "execution_count": 36,
   "id": "painful-course",
   "metadata": {},
   "outputs": [
    {
     "name": "stdout",
     "output_type": "stream",
     "text": [
      "Display the name O'Brien\n"
     ]
    }
   ],
   "source": [
    "print(\"Display the name O'Brien\")"
   ]
  },
  {
   "cell_type": "code",
   "execution_count": 37,
   "id": "literary-awareness",
   "metadata": {},
   "outputs": [
    {
     "name": "stdout",
     "output_type": "stream",
     "text": [
      "Display \"hi\" in quotes\n"
     ]
    }
   ],
   "source": [
    "print(\"Display \\\"hi\\\" in quotes\")"
   ]
  },
  {
   "cell_type": "markdown",
   "id": "ordered-storage",
   "metadata": {
    "slideshow": {
     "slide_type": "slide"
    }
   },
   "source": [
    "### Including Quotes in Strings (3 of 3)\n",
    "* Triple-quoted strings may contain both single and double quotes."
   ]
  },
  {
   "cell_type": "code",
   "execution_count": 38,
   "id": "continued-oriental",
   "metadata": {},
   "outputs": [
    {
     "name": "stdout",
     "output_type": "stream",
     "text": [
      "Display \"hi\" and 'bye' in quotes\n"
     ]
    }
   ],
   "source": [
    "print(\"\"\"Display \"hi\" and 'bye' in quotes\"\"\")"
   ]
  },
  {
   "cell_type": "markdown",
   "id": "ongoing-sally",
   "metadata": {
    "slideshow": {
     "slide_type": "slide"
    }
   },
   "source": [
    "### Multiline Strings (1 of 2)"
   ]
  },
  {
   "cell_type": "code",
   "execution_count": 40,
   "id": "lesbian-mailman",
   "metadata": {},
   "outputs": [],
   "source": [
    "triple_quoted_string = \"\"\"This is a triple-quoted\n",
    "string that spans two lines\"\"\""
   ]
  },
  {
   "cell_type": "markdown",
   "id": "recent-drunk",
   "metadata": {},
   "source": [
    "* IPython knows that the string is incomplete because we did not type the closing `\"\"\"` before we pressed _Enter_. \n",
    "* IPython displays a **continuation prompt `...:`** at which you can input the multiline string’s next line. \n",
    "* This continues until you enter the ending `\"\"\"` and press _Enter_. "
   ]
  },
  {
   "cell_type": "markdown",
   "id": "described-tooth",
   "metadata": {
    "slideshow": {
     "slide_type": "slide"
    }
   },
   "source": [
    "### Multiline Strings (2 of 2)"
   ]
  },
  {
   "cell_type": "code",
   "execution_count": 41,
   "id": "comparative-robertson",
   "metadata": {},
   "outputs": [
    {
     "name": "stdout",
     "output_type": "stream",
     "text": [
      "This is a triple-quoted\n",
      "string that spans two lines\n"
     ]
    }
   ],
   "source": [
    "print(triple_quoted_string)"
   ]
  },
  {
   "cell_type": "markdown",
   "id": "threatened-resistance",
   "metadata": {},
   "source": [
    "* Python stores multiline strings with embedded newline characters."
   ]
  },
  {
   "cell_type": "code",
   "execution_count": 42,
   "id": "blind-slovakia",
   "metadata": {},
   "outputs": [
    {
     "data": {
      "text/plain": [
       "'This is a triple-quoted\\nstring that spans two lines'"
      ]
     },
     "execution_count": 42,
     "metadata": {},
     "output_type": "execute_result"
    }
   ],
   "source": [
    "triple_quoted_string"
   ]
  },
  {
   "cell_type": "markdown",
   "id": "generous-witch",
   "metadata": {
    "slideshow": {
     "slide_type": "slide"
    }
   },
   "source": [
    "## 2.5 Getting Input from the User\n",
    "* Built-in **`input` function** requests and obtains user input."
   ]
  },
  {
   "cell_type": "code",
   "execution_count": 1,
   "id": "governing-single",
   "metadata": {},
   "outputs": [
    {
     "name": "stdout",
     "output_type": "stream",
     "text": [
      "What's your name? Marcel\n"
     ]
    }
   ],
   "source": [
    "name = input(\"What's your name? \")"
   ]
  },
  {
   "cell_type": "code",
   "execution_count": 2,
   "id": "drawn-reliance",
   "metadata": {},
   "outputs": [
    {
     "data": {
      "text/plain": [
       "'Marcel'"
      ]
     },
     "execution_count": 2,
     "metadata": {},
     "output_type": "execute_result"
    }
   ],
   "source": [
    "name"
   ]
  },
  {
   "cell_type": "code",
   "execution_count": 3,
   "id": "floating-abuse",
   "metadata": {},
   "outputs": [
    {
     "name": "stdout",
     "output_type": "stream",
     "text": [
      "Marcel\n"
     ]
    }
   ],
   "source": [
    "print(name)"
   ]
  },
  {
   "cell_type": "markdown",
   "id": "opening-supplement",
   "metadata": {
    "slideshow": {
     "slide_type": "slide"
    }
   },
   "source": [
    "* If you enter quotes, they’re input as part of the string."
   ]
  },
  {
   "cell_type": "code",
   "execution_count": null,
   "id": "sought-while",
   "metadata": {},
   "outputs": [],
   "source": [
    "name = input(\"What's your name? \")"
   ]
  },
  {
   "cell_type": "code",
   "execution_count": null,
   "id": "approved-citizen",
   "metadata": {},
   "outputs": [],
   "source": [
    "name"
   ]
  },
  {
   "cell_type": "code",
   "execution_count": null,
   "id": "taken-transcription",
   "metadata": {},
   "outputs": [],
   "source": [
    "print(name)"
   ]
  },
  {
   "cell_type": "markdown",
   "id": "veterinary-bolivia",
   "metadata": {
    "slideshow": {
     "slide_type": "slide"
    }
   },
   "source": [
    "### Function `input` Always Returns a String"
   ]
  },
  {
   "cell_type": "code",
   "execution_count": null,
   "id": "finite-hostel",
   "metadata": {},
   "outputs": [],
   "source": [
    "value1 = input('Enter first number: ') # e.g., 7"
   ]
  },
  {
   "cell_type": "code",
   "execution_count": null,
   "id": "conditional-senior",
   "metadata": {},
   "outputs": [],
   "source": [
    "value2 = input('Enter second number: ') # e.g., 3"
   ]
  },
  {
   "cell_type": "code",
   "execution_count": null,
   "id": "honest-perspective",
   "metadata": {
    "slideshow": {
     "slide_type": "fragment"
    }
   },
   "outputs": [],
   "source": [
    "value1 + value2"
   ]
  },
  {
   "cell_type": "markdown",
   "id": "mediterranean-algeria",
   "metadata": {
    "slideshow": {
     "slide_type": "fragment"
    }
   },
   "source": [
    "* Python “adds” the _string_ values `'7'` and `'3'`, producing the _string_ `'73'`. \n",
    "* Known as **string concatenation**. "
   ]
  },
  {
   "cell_type": "markdown",
   "id": "resident-sunglasses",
   "metadata": {
    "slideshow": {
     "slide_type": "slide"
    }
   },
   "source": [
    "### Getting an Integer from the User\n",
    "* If you need an integer, convert the string to an integer using the built-in **`int` function**. "
   ]
  },
  {
   "cell_type": "code",
   "execution_count": null,
   "id": "together-symbol",
   "metadata": {},
   "outputs": [],
   "source": [
    "value = input('Enter an integer: ')"
   ]
  },
  {
   "cell_type": "code",
   "execution_count": null,
   "id": "aware-coach",
   "metadata": {},
   "outputs": [],
   "source": [
    "value = int(value)"
   ]
  },
  {
   "cell_type": "code",
   "execution_count": null,
   "id": "recreational-weight",
   "metadata": {},
   "outputs": [],
   "source": [
    "value"
   ]
  },
  {
   "cell_type": "markdown",
   "id": "illegal-christian",
   "metadata": {
    "slideshow": {
     "slide_type": "slide"
    }
   },
   "source": [
    "* Can combine `int` and `input` in one statement."
   ]
  },
  {
   "cell_type": "code",
   "execution_count": null,
   "id": "fatty-marking",
   "metadata": {},
   "outputs": [],
   "source": [
    "another_value = int(input('Enter another integer: '))"
   ]
  },
  {
   "cell_type": "code",
   "execution_count": null,
   "id": "relevant-spiritual",
   "metadata": {},
   "outputs": [],
   "source": [
    "another_value"
   ]
  },
  {
   "cell_type": "code",
   "execution_count": null,
   "id": "functioning-television",
   "metadata": {},
   "outputs": [],
   "source": [
    "value + another_value"
   ]
  },
  {
   "cell_type": "markdown",
   "id": "opposite-donor",
   "metadata": {
    "slideshow": {
     "slide_type": "slide"
    }
   },
   "source": [
    "* If the string passed to `int` cannot be converted to an integer, a `ValueError` occurs."
   ]
  },
  {
   "cell_type": "code",
   "execution_count": null,
   "id": "successful-blink",
   "metadata": {},
   "outputs": [],
   "source": [
    "bad_value = int(input('Enter another integer: '))"
   ]
  },
  {
   "cell_type": "markdown",
   "id": "rising-poison",
   "metadata": {
    "slideshow": {
     "slide_type": "slide"
    }
   },
   "source": [
    "* Function `int` also can convert a floating-point value to an integer."
   ]
  },
  {
   "cell_type": "code",
   "execution_count": null,
   "id": "permanent-depression",
   "metadata": {
    "scrolled": false
   },
   "outputs": [],
   "source": [
    "int(10.5)"
   ]
  },
  {
   "cell_type": "code",
   "execution_count": null,
   "id": "controlling-banking",
   "metadata": {
    "slideshow": {
     "slide_type": "fragment"
    }
   },
   "outputs": [],
   "source": [
    "round(10.5)"
   ]
  },
  {
   "cell_type": "markdown",
   "id": "painted-router",
   "metadata": {
    "slideshow": {
     "slide_type": "slide"
    }
   },
   "source": [
    "# Time to do a short quiz ... on _menti.com_"
   ]
  },
  {
   "cell_type": "markdown",
   "id": "alert-finger",
   "metadata": {
    "slideshow": {
     "slide_type": "slide"
    }
   },
   "source": [
    "## 2.6 Decision Making: The if Statement and Comparison Operators\n",
    "* A **condition** is a Boolean expression with the value **`True`** or **`False`**. "
   ]
  },
  {
   "cell_type": "code",
   "execution_count": null,
   "id": "offshore-manner",
   "metadata": {},
   "outputs": [],
   "source": [
    "7 > 4"
   ]
  },
  {
   "cell_type": "code",
   "execution_count": null,
   "id": "faced-lemon",
   "metadata": {},
   "outputs": [],
   "source": [
    "7 < 4"
   ]
  },
  {
   "cell_type": "markdown",
   "id": "responsible-procurement",
   "metadata": {
    "slideshow": {
     "slide_type": "slide"
    }
   },
   "source": [
    "Algebraic operator | Python operator | Sample condition | Meaning \n",
    ":---- | :---- | :---- | :----\n",
    "&gt;  | `>` | `x > y` | `x` is greater than `y`\n",
    "&lt;  | `<` | `x < y` | `x` is less than `y`\n",
    "&ge; | `>=` | `x >= y` | `x` is greater than or equal to `y`\n",
    "&le; | `<=` | `x <= y` | `x` is less than or equal to `y`\n",
    "= | `==` | `x == y` | `x` is equal to `y`\n",
    "&ne; | `!=` | `x != y` | `x` is not equal to `y`\n",
    "\n",
    "* Operators `>`, `<`, `>=` and `<=` have the same precedence. \n",
    "* Operators `==` and `!=` have the same precedence, which is lower than `>`, `<`, `>=` and `<=`. "
   ]
  },
  {
   "cell_type": "markdown",
   "id": "visible-military",
   "metadata": {
    "slideshow": {
     "slide_type": "slide"
    }
   },
   "source": [
    "* It's a syntax error when any of the operators `==`, `!=`, `>=` and `<=` contains spaces between its pair of symbols."
   ]
  },
  {
   "cell_type": "code",
   "execution_count": null,
   "id": "handy-distributor",
   "metadata": {},
   "outputs": [],
   "source": [
    "7 > = 4"
   ]
  },
  {
   "cell_type": "markdown",
   "id": "fewer-process",
   "metadata": {
    "slideshow": {
     "slide_type": "slide"
    }
   },
   "source": [
    "### Making Decisions with the if Statement: Introducing Scripts\n",
    "* The **`if` statement** uses a condition to decide whether to execute a statement (or a group of statements). \n",
    "* We’ll read two integers from the user and compare them using six consecutive `if` statements, one for each comparison operator. \n",
    "* When you have many statements to execute as a group, you may also write them as a **script** stored in a file with the `.py` (short for Python) extension. "
   ]
  },
  {
   "cell_type": "markdown",
   "id": "revised-pharmacy",
   "metadata": {
    "slideshow": {
     "slide_type": "slide"
    }
   },
   "source": [
    "To run this example in JupyterNotebook/Lab, you can use the command:\n",
    ">```\n",
    "run fig02_01.py\n",
    "```"
   ]
  },
  {
   "cell_type": "markdown",
   "id": "covered-reference",
   "metadata": {
    "slideshow": {
     "slide_type": "-"
    }
   },
   "source": [
    "```python \n",
    "# fig02_01.py\n",
    "\"\"\"Comparing integers using if statements and comparison operators.\"\"\"\n",
    "\n",
    "print('Enter two integers, and I will tell you',\n",
    "      'the relationships they satisfy.')\n",
    "\n",
    "# read first integer\n",
    "number1 = int(input('Enter first integer: '))\n",
    "\n",
    "# read second integer\n",
    "number2 = int(input('Enter second integer: '))\n",
    "\n",
    "if number1 == number2:\n",
    "    print(number1, 'is equal to', number2)\n",
    "\n",
    "if number1 != number2:\n",
    "    print(number1, 'is not equal to', number2)\n",
    "\n",
    "if number1 < number2:\n",
    "    print(number1, 'is less than', number2)\n",
    "\n",
    "if number1 > number2:\n",
    "    print(number1, 'is greater than', number2)\n",
    "\n",
    "if number1 <= number2:\n",
    "    print(number1, 'is less than or equal to', number2)\n",
    "\n",
    "if number1 >= number2:\n",
    "    print(number1, 'is greater than or equal to', number2)\n",
    "```"
   ]
  },
  {
   "cell_type": "markdown",
   "id": "dominican-collective",
   "metadata": {
    "slideshow": {
     "slide_type": "slide"
    }
   },
   "source": [
    "* Enter `37` and `42`"
   ]
  },
  {
   "cell_type": "code",
   "execution_count": null,
   "id": "contained-words",
   "metadata": {
    "scrolled": true
   },
   "outputs": [],
   "source": [
    " run fig02_01.py"
   ]
  },
  {
   "cell_type": "markdown",
   "id": "frequent-commission",
   "metadata": {
    "slideshow": {
     "slide_type": "slide"
    }
   },
   "source": [
    "* Enter `7` and `7`"
   ]
  },
  {
   "cell_type": "code",
   "execution_count": null,
   "id": "skilled-foster",
   "metadata": {
    "scrolled": true
   },
   "outputs": [],
   "source": [
    " run fig02_01.py"
   ]
  },
  {
   "cell_type": "markdown",
   "id": "front-chain",
   "metadata": {
    "slideshow": {
     "slide_type": "slide"
    }
   },
   "source": [
    "* Enter `54` and `17`"
   ]
  },
  {
   "cell_type": "code",
   "execution_count": null,
   "id": "proprietary-discovery",
   "metadata": {},
   "outputs": [],
   "source": [
    "run fig02_01.py"
   ]
  },
  {
   "cell_type": "markdown",
   "id": "cubic-aquatic",
   "metadata": {
    "slideshow": {
     "slide_type": "slide"
    }
   },
   "source": [
    "### Comments\n",
    "* The hash character (**`#`**) indicates that the rest of the line is a **comment**.\n",
    "* We begin each script with a comment indicating the script’s file name. \n",
    "* A comment also can begin to the right of the code on a given line and continue until the end of that line.  "
   ]
  },
  {
   "cell_type": "markdown",
   "id": "insured-hydrogen",
   "metadata": {
    "slideshow": {
     "slide_type": "slide"
    }
   },
   "source": [
    "### Docstrings\n",
    "* The _Style Guide for Python Code_ says each script should start with a docstring that explains the script’s purpose.\n",
    "* Often spans many lines for more complex scripts. "
   ]
  },
  {
   "cell_type": "markdown",
   "id": "choice-booth",
   "metadata": {
    "slideshow": {
     "slide_type": "slide"
    }
   },
   "source": [
    "### Blank Lines\n",
    "* Blank lines and space characters to make code easier to read. \n",
    "* Together, blank lines, space characters and tab characters are known as **white space**. \n",
    "* Python ignores most white space."
   ]
  },
  {
   "cell_type": "markdown",
   "id": "underlying-girlfriend",
   "metadata": {
    "slideshow": {
     "slide_type": "slide"
    }
   },
   "source": [
    "### Splitting a Lengthy Statement Across Lines\n",
    "* Typically, you write statements on one line. \n",
    "* You may spread a lengthy statement over several lines with the `\\` continuation character. \n",
    "* Also can split long code lines in parentheses without using continuation characters (as in the script's first `print` statement)&mdash;this is preferred according to the _Style Guide for Python Code_. "
   ]
  },
  {
   "cell_type": "markdown",
   "id": "junior-detection",
   "metadata": {
    "slideshow": {
     "slide_type": "slide"
    }
   },
   "source": [
    "### Reading Integer Values from the User\n",
    "* We use built-in functions `input` and `int` to prompt for and read two integer values from the user. "
   ]
  },
  {
   "cell_type": "markdown",
   "id": "heard-population",
   "metadata": {
    "slideshow": {
     "slide_type": "slide"
    }
   },
   "source": [
    "### `if` Statements\n",
    "* Each `if` statement consists of the keyword `if`, the condition to test, and a colon (`:`) followed by an indented body called a **suite**. \n",
    "* Each suite must contain one or more statements. \n"
   ]
  },
  {
   "cell_type": "markdown",
   "id": "supposed-three",
   "metadata": {
    "slideshow": {
     "slide_type": "slide"
    }
   },
   "source": [
    "### Suite Indentation\n",
    "* Python requires you to indent the statements in suites. \n",
    "* The _Style Guide for Python Code_ recommends four-space indents."
   ]
  },
  {
   "cell_type": "markdown",
   "id": "incredible-queens",
   "metadata": {
    "slideshow": {
     "slide_type": "slide"
    }
   },
   "source": [
    "### Confusing == and = \n",
    "* Using the assignment symbol (`=`) instead of the equality operator (`==`) in an `if` statement’s condition is a common syntax error. "
   ]
  },
  {
   "cell_type": "markdown",
   "id": "proof-quarter",
   "metadata": {
    "slideshow": {
     "slide_type": "slide"
    }
   },
   "source": [
    "### Chaining Comparisons\n",
    "* You can chain comparisons to check whether a value is in a range."
   ]
  },
  {
   "cell_type": "code",
   "execution_count": null,
   "id": "exceptional-outreach",
   "metadata": {},
   "outputs": [],
   "source": [
    "x = 3"
   ]
  },
  {
   "cell_type": "code",
   "execution_count": null,
   "id": "sitting-optimum",
   "metadata": {},
   "outputs": [],
   "source": [
    "1 <= x <= 5"
   ]
  },
  {
   "cell_type": "code",
   "execution_count": null,
   "id": "changing-measurement",
   "metadata": {},
   "outputs": [],
   "source": [
    "x = 10"
   ]
  },
  {
   "cell_type": "code",
   "execution_count": null,
   "id": "ancient-happening",
   "metadata": {},
   "outputs": [],
   "source": [
    "1 <= x <= 5"
   ]
  },
  {
   "cell_type": "markdown",
   "id": "appointed-practice",
   "metadata": {
    "slideshow": {
     "slide_type": "slide"
    }
   },
   "source": [
    "## 2.7 Dynamic Typing\n",
    "* `7` (an integer), `4.1` (a floating-point number) and `'dog'` are all objects. \n",
    "* Every object has a type and a value."
   ]
  },
  {
   "cell_type": "code",
   "execution_count": null,
   "id": "billion-meeting",
   "metadata": {},
   "outputs": [],
   "source": [
    "type(7)"
   ]
  },
  {
   "cell_type": "code",
   "execution_count": null,
   "id": "crazy-banking",
   "metadata": {},
   "outputs": [],
   "source": [
    "type(4.1)"
   ]
  },
  {
   "cell_type": "code",
   "execution_count": null,
   "id": "white-density",
   "metadata": {},
   "outputs": [],
   "source": [
    "type('dog')"
   ]
  },
  {
   "cell_type": "markdown",
   "id": "acceptable-december",
   "metadata": {
    "slideshow": {
     "slide_type": "fragment"
    }
   },
   "source": [
    "* An object’s value is the data stored in the object. \n",
    "* The snippets above show objects of built-in types **`int`** (for integers), **`float`** (for floating-point numbers) and **`str`** (for strings). "
   ]
  },
  {
   "cell_type": "markdown",
   "id": "attempted-quebec",
   "metadata": {
    "slideshow": {
     "slide_type": "slide"
    }
   },
   "source": [
    "### Variables Refer to Objects\n",
    "* Assigning an object to a variable **binds** (associates) that variable’s name to the object. \n",
    "* Can then use the variable to access the object’s value."
   ]
  },
  {
   "cell_type": "code",
   "execution_count": null,
   "id": "advised-cemetery",
   "metadata": {},
   "outputs": [],
   "source": [
    "x = 7"
   ]
  },
  {
   "cell_type": "code",
   "execution_count": null,
   "id": "modern-fifteen",
   "metadata": {},
   "outputs": [],
   "source": [
    "x + 10"
   ]
  },
  {
   "cell_type": "code",
   "execution_count": null,
   "id": "periodic-drive",
   "metadata": {},
   "outputs": [],
   "source": [
    "x"
   ]
  },
  {
   "cell_type": "markdown",
   "id": "metropolitan-brook",
   "metadata": {
    "slideshow": {
     "slide_type": "fragment"
    }
   },
   "source": [
    "* Variable `x` **refers** to the integer object containing `7`.\n",
    "![Objects and references]( data:image/png;base64,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)"
   ]
  },
  {
   "cell_type": "code",
   "execution_count": null,
   "id": "protective-missouri",
   "metadata": {},
   "outputs": [],
   "source": [
    "x = x + 10"
   ]
  },
  {
   "cell_type": "code",
   "execution_count": null,
   "id": "governmental-biodiversity",
   "metadata": {},
   "outputs": [],
   "source": [
    "x"
   ]
  },
  {
   "cell_type": "markdown",
   "id": "desperate-bonus",
   "metadata": {
    "slideshow": {
     "slide_type": "slide"
    }
   },
   "source": [
    "### Dynamic Typing (1 of 2)\n",
    "* Python uses **dynamic typing**—it determines the type of the object a variable refers to while executing your code. \n",
    "* Can show this by rebinding the variable `x` to different objects and checking their types."
   ]
  },
  {
   "cell_type": "markdown",
   "id": "solved-appraisal",
   "metadata": {
    "slideshow": {
     "slide_type": "slide"
    }
   },
   "source": [
    "### Dynamic Typing (2 of 2)"
   ]
  },
  {
   "cell_type": "code",
   "execution_count": null,
   "id": "reliable-compression",
   "metadata": {},
   "outputs": [],
   "source": [
    "type(x)"
   ]
  },
  {
   "cell_type": "code",
   "execution_count": null,
   "id": "impaired-score",
   "metadata": {},
   "outputs": [],
   "source": [
    "x = 4.1"
   ]
  },
  {
   "cell_type": "code",
   "execution_count": null,
   "id": "parliamentary-genetics",
   "metadata": {},
   "outputs": [],
   "source": [
    "type(x)"
   ]
  },
  {
   "cell_type": "code",
   "execution_count": null,
   "id": "equipped-single",
   "metadata": {},
   "outputs": [],
   "source": [
    "x = 'dog'"
   ]
  },
  {
   "cell_type": "code",
   "execution_count": null,
   "id": "unlikely-organization",
   "metadata": {},
   "outputs": [],
   "source": [
    "type(x)"
   ]
  },
  {
   "cell_type": "markdown",
   "id": "lonely-millennium",
   "metadata": {
    "slideshow": {
     "slide_type": "slide"
    }
   },
   "source": [
    "### Garbage Collection\n",
    "* Python creates objects in memory and removes them from memory as necessary. \n",
    "* When an object is no longer bound to a variable, Python can automatically removes the object from memory. \n",
    "* This process—called **garbage collection**—helps ensure that memory is available for new objects."
   ]
  },
  {
   "cell_type": "markdown",
   "id": "rental-industry",
   "metadata": {
    "slideshow": {
     "slide_type": "slide"
    }
   },
   "source": [
    "## 2.8 Basic Descriptive Statistics\n",
    "* In data science, you’ll often use statistics to describe and summarize your data. \n",
    "* Here, we introduce two **descriptive statistics**:\n",
    "    * **minimum**—the smallest value in a collection of values.\n",
    "    * **maximum**—the largest value in a collection of values.\n",
    "   "
   ]
  },
  {
   "cell_type": "markdown",
   "id": "possible-validation",
   "metadata": {
    "slideshow": {
     "slide_type": "slide"
    }
   },
   "source": [
    "### Determining the Minimum of Three Values \n",
    "* Determine the minimum of three values manually in a script that prompts for and inputs three values, uses `if` statements to determine the minimum value, then displays it."
   ]
  },
  {
   "cell_type": "markdown",
   "id": "sunset-pittsburgh",
   "metadata": {
    "slideshow": {
     "slide_type": "slide"
    }
   },
   "source": [
    "```python \n",
    "# fig02_02.py\n",
    "\"\"\"Find the minimum of three values.\"\"\"\n",
    "\n",
    "number1 = int(input('Enter first integer: '))\n",
    "number2 = int(input('Enter second integer: '))\n",
    "number3 = int(input('Enter third integer: '))\n",
    "\n",
    "minimum = number1\n",
    "\n",
    "if number2 < minimum:\n",
    "    minimum = number2\n",
    "\n",
    "if number3 < minimum:\n",
    "    minimum = number3\n",
    "\n",
    "print('Minimum value is', minimum)\n",
    "```"
   ]
  },
  {
   "cell_type": "markdown",
   "id": "convertible-northwest",
   "metadata": {
    "slideshow": {
     "slide_type": "slide"
    }
   },
   "source": [
    "* Enter `12`, `27` and `36`"
   ]
  },
  {
   "cell_type": "code",
   "execution_count": null,
   "id": "choice-triangle",
   "metadata": {},
   "outputs": [],
   "source": [
    "run fig02_02.py"
   ]
  },
  {
   "cell_type": "markdown",
   "id": "single-variety",
   "metadata": {
    "slideshow": {
     "slide_type": "slide"
    }
   },
   "source": [
    "* Enter `12`, `36` and `27`"
   ]
  },
  {
   "cell_type": "code",
   "execution_count": null,
   "id": "annoying-fifty",
   "metadata": {},
   "outputs": [],
   "source": [
    "run fig02_02.py"
   ]
  },
  {
   "cell_type": "markdown",
   "id": "stunning-extension",
   "metadata": {
    "slideshow": {
     "slide_type": "slide"
    }
   },
   "source": [
    "* Enter `36`, `27` and `12`"
   ]
  },
  {
   "cell_type": "code",
   "execution_count": null,
   "id": "standing-gravity",
   "metadata": {},
   "outputs": [],
   "source": [
    "run fig02_02.py"
   ]
  },
  {
   "cell_type": "markdown",
   "id": "conventional-leonard",
   "metadata": {
    "slideshow": {
     "slide_type": "slide"
    }
   },
   "source": [
    "* Logic of determining minimum:\n",
    "    * First, assume that `number1` contains the smallest value. \n",
    "    * The first `if` statement then tests `number2 < minimum` and if this condition is `True` assigns `number2` to `minimum`. \n",
    "    * The second `if` statement then tests `number3 < minimum`, and if this condition is `True` assigns `number3` to `minimum`. \n",
    "* Now, `minimum` contains the smallest value, so we display it. "
   ]
  },
  {
   "cell_type": "markdown",
   "id": "favorite-hudson",
   "metadata": {
    "slideshow": {
     "slide_type": "slide"
    }
   },
   "source": [
    "### Determining the Minimum and Maximum with Built-In Functions `min` and `max`\n",
    "* Python has many built-in functions for performing common tasks. \n",
    "* **`min`** and **`max`** calculate the minimum and maximum, respectively, of a collection of values."
   ]
  },
  {
   "cell_type": "code",
   "execution_count": null,
   "id": "prompt-lecture",
   "metadata": {},
   "outputs": [],
   "source": [
    "min(36, 27, 12)"
   ]
  },
  {
   "cell_type": "code",
   "execution_count": null,
   "id": "ecological-utility",
   "metadata": {},
   "outputs": [],
   "source": [
    "max(36, 27, 12)"
   ]
  },
  {
   "cell_type": "markdown",
   "id": "compliant-argument",
   "metadata": {
    "slideshow": {
     "slide_type": "notes"
    }
   },
   "source": [
    "------\n",
    "&copy;1992&ndash;2020 by Pearson Education, Inc. All Rights Reserved. This content is based on Chapter 1 of the book [**Intro to Python for Computer Science and Data Science: Learning to Program with AI, Big Data and the Cloud**](https://amzn.to/2VvdnxE).         "
   ]
  }
 ],
 "metadata": {
  "celltoolbar": "Slideshow",
  "kernelspec": {
   "display_name": "Python 3 (ipykernel)",
   "language": "python",
   "name": "python3"
  },
  "language_info": {
   "codemirror_mode": {
    "name": "ipython",
    "version": 3
   },
   "file_extension": ".py",
   "mimetype": "text/x-python",
   "name": "python",
   "nbconvert_exporter": "python",
   "pygments_lexer": "ipython3",
   "version": "3.11.4"
  }
 },
 "nbformat": 4,
 "nbformat_minor": 5
}
