{
 "cells": [
  {
   "cell_type": "code",
   "execution_count": 1,
   "metadata": {},
   "outputs": [
    {
     "name": "stdout",
     "output_type": "stream",
     "text": [
      "Requirement already satisfied: qrcode[pil] in c:\\users\\marce\\appdata\\local\\programs\\python\\python311\\lib\\site-packages (7.4.2)Note: you may need to restart the kernel to use updated packages.\n",
      "\n",
      "Requirement already satisfied: typing-extensions in c:\\users\\marce\\appdata\\local\\programs\\python\\python311\\lib\\site-packages (from qrcode[pil]) (4.8.0)\n",
      "Requirement already satisfied: pypng in c:\\users\\marce\\appdata\\local\\programs\\python\\python311\\lib\\site-packages (from qrcode[pil]) (0.20220715.0)\n",
      "Requirement already satisfied: colorama in c:\\users\\marce\\appdata\\roaming\\python\\python311\\site-packages (from qrcode[pil]) (0.4.6)\n",
      "Requirement already satisfied: pillow>=9.1.0 in c:\\users\\marce\\appdata\\local\\programs\\python\\python311\\lib\\site-packages (from qrcode[pil]) (10.1.0)\n"
     ]
    }
   ],
   "source": [
    "pip install \"qrcode[pil]\"\n"
   ]
  },
  {
   "cell_type": "code",
   "execution_count": 2,
   "metadata": {},
   "outputs": [],
   "source": [
    "import qrcode\n",
    "qr = qrcode.QRCode(\n",
    "    version=1,\n",
    "    error_correction=qrcode.constants.ERROR_CORRECT_L,\n",
    "    box_size=10,\n",
    "    border=4,\n",
    ")\n",
    "qr.add_data('Some data')\n",
    "qr.make(fit=True)\n",
    "\n",
    "img = qr.make_image(fill_color=\"black\", back_color=\"white\")"
   ]
  }
 ],
 "metadata": {
  "celltoolbar": "Slideshow",
  "kernelspec": {
   "display_name": "Python 3 (ipykernel)",
   "language": "python",
   "name": "python3"
  },
  "language_info": {
   "codemirror_mode": {
    "name": "ipython",
    "version": 3
   },
   "file_extension": ".py",
   "mimetype": "text/x-python",
   "name": "python",
   "nbconvert_exporter": "python",
   "pygments_lexer": "ipython3",
   "version": "3.11.5"
  }
 },
 "nbformat": 4,
 "nbformat_minor": 5
}
